{
 "cells": [
  {
   "cell_type": "code",
   "execution_count": 105,
   "id": "3d4f2485",
   "metadata": {},
   "outputs": [],
   "source": [
    "import pandas as pd\n",
    "import numpy as np\n",
    "import json\n",
    "import shapely\n",
    "from shapely.ops import cascaded_union\n",
    "import geog\n",
    "import folium\n",
    "from folium import FeatureGroup, LayerControl\n",
    "from folium.plugins import *"
   ]
  },
  {
   "cell_type": "code",
   "execution_count": 106,
   "id": "d11de5fb",
   "metadata": {},
   "outputs": [
    {
     "name": "stdout",
     "output_type": "stream",
     "text": [
      "<class 'pandas.core.frame.DataFrame'>\n",
      "RangeIndex: 290 entries, 0 to 289\n",
      "Data columns (total 3 columns):\n",
      " #   Column         Non-Null Count  Dtype  \n",
      "---  ------         --------------  -----  \n",
      " 0   Shop Category  290 non-null    object \n",
      " 1   Longitude      290 non-null    float64\n",
      " 2   Latitude       290 non-null    float64\n",
      "dtypes: float64(2), object(1)\n",
      "memory usage: 6.9+ KB\n"
     ]
    }
   ],
   "source": [
    "df = pd.read_csv('shop_data.csv')\n",
    "df.info()"
   ]
  },
  {
   "cell_type": "code",
   "execution_count": 107,
   "id": "f076d297",
   "metadata": {},
   "outputs": [
    {
     "name": "stdout",
     "output_type": "stream",
     "text": [
      "number of unique categories:  2\n",
      "unique categories:  ['Clothing' 'FoodandBeverage']\n"
     ]
    }
   ],
   "source": [
    "# check the number of unique shop categories, and the unique labels\n",
    "print('number of unique categories: ', df['Shop Category'].nunique())\n",
    "print('unique categories: ', df['Shop Category'].unique())"
   ]
  },
  {
   "cell_type": "code",
   "execution_count": 111,
   "id": "aec42e58",
   "metadata": {},
   "outputs": [],
   "source": [
    "# we're going to create a map with a different shape per category\n",
    "# define a function to create geometries for our map\n",
    "def createShape(lat,lng,shape_points,distance_radius_meters):\n",
    "    p = (lng, lat)\n",
    "    n_points = shape_points+1\n",
    "    d = distance_radius_meters  # meters\n",
    "    angles = np.linspace(0, 360, n_points)\n",
    "    polygon = geog.propagate(p, angles, d)\n",
    "    return shapely.geometry.Polygon(polygon)\n",
    "\n",
    "# we'll create hexagons and squares with 500meter sides\n",
    "hexagon_side=6\n",
    "square_side=4\n",
    "shape_length_meters=500\n",
    "\n",
    "# create a column to map shapes to shop categories\n",
    "df['Shape Points'] = df['Shop Category'].map({'Clothing': hexagon_side, 'FoodandBeverage': square_side})\n",
    "\n",
    "# create a column with the shape geometry\n",
    "df['Shape Geometry'] = np.vectorize(createShape)(df['Latitude'], df['Longitude'], df['Shape Points'], shape_length_meters)"
   ]
  },
  {
   "cell_type": "code",
   "execution_count": 270,
   "id": "ddb1a77b",
   "metadata": {},
   "outputs": [],
   "source": [
    "# create a base map with typical openstreetmap tiles\n",
    "start_coords = [-26.043555, 28.019104]\n",
    "base_map = folium.Map(location = start_coords, zoom_start = 13, tile='openstreetmap')\n",
    "\n",
    "# overlay satellite images on basic map tiles\n",
    "tile = folium.TileLayer(\n",
    "        tiles = 'https://server.arcgisonline.com/ArcGIS/rest/services/World_Imagery/MapServer/tile/{z}/{y}/{x}',\n",
    "        attr = 'Esri',\n",
    "        name = 'Esri Image',\n",
    "        overlay = True,\n",
    "        control = True,\n",
    "        opacity=0.5\n",
    "       ).add_to(base_map)\n",
    "\n",
    "# create a dictionary with the colour hex codes for each category\n",
    "color_dict={'Clothing':'#E81EC0','FoodandBeverage':'#9300FF'}\n",
    "\n",
    "# add the first layer of polygons to the map, with overlapping polygons having borders removed\n",
    "shopcategory = df['Shop Category'].unique()[0]\n",
    "lgd_txt = '<span style=\"color: {col};\">{txt}</span>'\n",
    "color=color_dict[shopcategory]\n",
    "feature_group = FeatureGroup(name=lgd_txt.format(txt=shopcategory, col=color))\n",
    "polygons = df[df['Shop Category'] == shopcategory]['Shape Geometry'].to_list()\n",
    "u = shapely.ops.unary_union(polygons)\n",
    "highlight_function = lambda x: {'fillColor': color, 'color': 'black', 'weight': 2, 'dashArray': '5, 5', 'fillOpacity': 0.05}\n",
    "style_function = lambda x: {'fillColor': color, 'color': color, 'weight': 3}\n",
    "feature_group.add_child(folium.GeoJson(json.dumps(shapely.geometry.mapping(u)), style_function=style_function, highlight_function=highlight_function, overlay=False))\n",
    "base_map.add_child(feature_group) \n",
    "\n",
    "# add the second layer of polygons to the map, with overlapping polygons having borders removed\n",
    "shopcategory = df['Shop Category'].unique()[1]\n",
    "lgd_txt = '<span style=\"color: {col};\">{txt}</span>'\n",
    "color2=color_dict[shopcategory]\n",
    "feature_group = FeatureGroup(name=lgd_txt.format(txt=shopcategory, col=color2))\n",
    "polygons = df[df['Shop Category'] == shopcategory]['Shape Geometry'].to_list()\n",
    "u = shapely.ops.unary_union(polygons)\n",
    "highlight_function = lambda x: {'fillColor': color2, 'color': 'black', 'weight': 2, 'dashArray': '5, 5', 'fillOpacity': 0.05}\n",
    "style_function = lambda x: {'fillColor': color2, 'color': color2, 'weight': 3}\n",
    "feature_group.add_child(folium.GeoJson(json.dumps(shapely.geometry.mapping(u)), style_function=style_function, highlight_function=highlight_function, overlay=False))\n",
    "base_map.add_child(feature_group) \n",
    "\n",
    "# add some markers with a basic html pop-up when they're clicked, for the cities below\n",
    "town_dict = {}\n",
    "town_dict['Cape Town'] = (-33.926, 18.423)\n",
    "town_dict['Durban'] = (-29.858 , 31.029)\n",
    "town_dict['Johannesburg'] = (-26.202 , 28.044)\n",
    "town_dict['Soweto'] = (-26.268 , 27.858)\n",
    "town_dict['Pretoria'] = (-25.745 , 28.188)\n",
    "town_dict['Port Elizabeth'] = (-33.961 , 25.615)\n",
    "town_dict['East London'] = (-33.015 , 27.912)\n",
    "town_dict['Bloemfontein'] = (-29.121 , 26.214)\n",
    "feature_group = FeatureGroup(name=\"Major City\")\n",
    "for key in town_dict.keys():\n",
    "    html = \"\"\"<html><body style=\"font-family: sans-serif; font-size: 8pt\"><center>Lat:{txt1:.3f}, Lon:{txt2:.3f}<br>City Name: {txt3}</body></html>\"\"\".format(txt1=town_dict[key][0], txt2=town_dict[key][1], txt3=key)\n",
    "    iframe = folium.IFrame(html=html, width=150, height=60)\n",
    "    feature_group.add_child(folium.Marker([town_dict[key][0], town_dict[key][1]], icon=folium.Icon(color=\"darkred\",icon=\"asterisk\", prefix='fa'), popup=folium.Popup(iframe)))\n",
    "base_map.add_child(feature_group)\n",
    "\n",
    "# add functionality for users to draw polygons and measure distances\n",
    "fmtr = \"function(num) {return L.Util.formatNum(num, 3);};\"\n",
    "MousePosition(position='topright', separator=' | ', prefix=\"Mouse:\", lat_formatter=fmtr, lng_formatter=fmtr).add_to(base_map)\n",
    "base_map.add_child(MeasureControl(active_color = '#EBF215', completed_color = '#EEF3F6'))\n",
    "\n",
    "# add a layer legend and toggle to the map\n",
    "folium.LayerControl().add_to(base_map)\n",
    "\n",
    "# save the map as an html file\n",
    "base_map.save(\"./shopsinsouthafrica.html\")"
   ]
  }
 ],
 "metadata": {
  "kernelspec": {
   "display_name": "geospatial_general",
   "language": "python",
   "name": "geospatial_general"
  },
  "language_info": {
   "codemirror_mode": {
    "name": "ipython",
    "version": 3
   },
   "file_extension": ".py",
   "mimetype": "text/x-python",
   "name": "python",
   "nbconvert_exporter": "python",
   "pygments_lexer": "ipython3",
   "version": "3.10.13"
  }
 },
 "nbformat": 4,
 "nbformat_minor": 5
}
