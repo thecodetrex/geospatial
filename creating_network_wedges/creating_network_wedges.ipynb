{
 "cells": [
  {
   "cell_type": "code",
   "execution_count": null,
   "metadata": {},
   "outputs": [],
   "source": [
    "# import required libraries\n",
    "import pandas as pd\n",
    "import numpy as np\n",
    "import geog\n",
    "import simplekml\n",
    "import shapely"
   ]
  },
  {
   "cell_type": "code",
   "execution_count": null,
   "metadata": {},
   "outputs": [],
   "source": [
    "# read in dataframe of network data (this is a dummy dataset)\n",
    "df = pd.read_csv('network_data.csv')\n",
    "df.info()\n",
    "# the dataframe contains: \n",
    "    # a cell identifier, \n",
    "    # cell locations, \n",
    "    # the number of connections to a cell, \n",
    "    # the average distance from the cell which users connect to \n",
    "    # and the direction the cell faces \n"
   ]
  },
  {
   "cell_type": "code",
   "execution_count": null,
   "metadata": {},
   "outputs": [],
   "source": [
    "# define functions to create different components required to create wedges\n",
    "\n",
    "# starting with a circle...\n",
    "def createCircle(lat,lng,n_points,distance_radius_meters):\n",
    "    p = (lng, lat)\n",
    "    n_points = n_points\n",
    "    d = distance_radius_meters  # meters\n",
    "    angles = np.linspace(0, 360, n_points)\n",
    "    polygon = geog.propagate(p, angles, d)\n",
    "    return shapely.geometry.Polygon(polygon)\n",
    "\n",
    "# ...then two lines to intersect the circle and split it into a wedge and the remainder...\n",
    "def createLine(lat,lng,n_points,distance_radius_meters,angle):\n",
    "    p = (lng, lat)\n",
    "    n_points = n_points\n",
    "    d = distance_radius_meters  # meters\n",
    "    polygon = geog.propagate(p, angle, d, bearing=True)\n",
    "    try:\n",
    "        return shapely.geometry.LineString([(lng, lat), (polygon[0], polygon[1])])\n",
    "    except:\n",
    "        return None\n",
    "    \n",
    "# ...and implement the intersection and pick the wedge by selecting the shape with the minimum area between the two \n",
    "#    (the wedge and the remainder)\n",
    "def createWedge(circle, l1, l2):\n",
    "    if (circle.is_valid) & (l1.is_valid) & (l2.is_valid):\n",
    "        plist = circle.difference(l1.buffer(1e-6)).difference(l2.buffer(1e-6)).geoms\n",
    "        return plist[[pol.area for pol in plist].index(min([pol.area for pol in plist]))]\n",
    "    else:\n",
    "        return np.nan"
   ]
  },
  {
   "cell_type": "code",
   "execution_count": null,
   "metadata": {},
   "outputs": [],
   "source": [
    "# create circles for each location with radius (in meters) equal to the value in the 'distance from cell' column\n",
    "# we vectorize the function to speed up the process\n",
    "df['circle_geometry'] = np.vectorize(createCircle)(df['Latitude'], df['Longitude'], 20, df['Timing Advance'])\n",
    "\n",
    "# here we specify the width of the wedge, with the angle applied to either side of the direction the cell is facing\n",
    "# resulting in a wedge with 2 x the size of the cone span angle value\n",
    "cone_span = 60\n",
    "\n",
    "# create lines to cut the circle in the direction we want\n",
    "df['l1'] = np.vectorize(createLine)(df['Latitude'], df['Longitude'], 2, df['Timing Advance'], df['Azimuth']-cone_span)\n",
    "df['l2'] = np.vectorize(createLine)(df['Latitude'], df['Longitude'], 2, df['Timing Advance'], df['Azimuth']+cone_span)\n",
    "\n",
    "# extract the wedge piece of the geometries\n",
    "df['wedge_geometry'] = np.vectorize(createWedge)(df['circle_geometry'], df['l1'], df['l2'])"
   ]
  },
  {
   "cell_type": "code",
   "execution_count": null,
   "metadata": {},
   "outputs": [],
   "source": [
    "# look at the distribution of user counts\n",
    "df['LTE Users'].describe()"
   ]
  },
  {
   "cell_type": "code",
   "execution_count": null,
   "metadata": {},
   "outputs": [],
   "source": [
    "# create a function to assign colours to each wedge based on the number of users\n",
    "# the first two characters represent transparency which can be set from 00 to ff (which is invisible to opaque)\n",
    "# you can use 6 digit hex code in reverse for the last six characters\n",
    "def createColor(user_stats):\n",
    "    if (user_stats>=df['LTE Users'].quantile(0.60)):\n",
    "        return '501400FF'\n",
    "    elif (user_stats>=df['LTE Users'].quantile(0.30)):\n",
    "        return '5014B4FF'\n",
    "    elif (user_stats>=1):\n",
    "        return '5000FF14'          \n",
    "    else:\n",
    "        return '50F0FF14'\n",
    "\n",
    "# apply the colour function\n",
    "df['polycolor'] = np.vectorize(createColor)(df['LTE Users'])\n",
    "\n",
    "# remove spaces in columns names as preparation for writing to kml\n",
    "df.columns = [x.replace(' ','_') for x in df.columns]"
   ]
  },
  {
   "cell_type": "code",
   "execution_count": null,
   "metadata": {},
   "outputs": [],
   "source": [
    "# create a function to assign colours to each wedge based on the number of users\n",
    "# the first two characters represent transparency which can be set from 00 to ff (which is invisible to opaque)\n",
    "# you can use 6 digit hex code in reverse for the last six characters\n",
    "def createColor(user_stats):\n",
    "    if (user_stats>=df['LTE Users'].quantile(0.60)):\n",
    "        return '501400FF'\n",
    "    elif (user_stats>=df['LTE Users'].quantile(0.30)):\n",
    "        return '5014B4FF'\n",
    "    elif (user_stats>=1):\n",
    "        return '5000FF14'          \n",
    "    else:\n",
    "        return '50F0FF14'\n",
    "\n",
    "# apply the colour function\n",
    "df['polycolor'] = np.vectorize(createColor)(df['LTE Users'])\n",
    "\n",
    "# remove spaces in columns names as preparation for writing to kml\n",
    "df.columns = [x.replace(' ','_') for x in df.columns]\n",
    "\n",
    "# create a kml with all of the cells\n",
    "# the name of each polygon will be the cell id, so that its easy to search for a particular cell after importing into GoogleEarth\n",
    "# the description is a html pop up object that displays som supplementary information\n",
    "kml = simplekml.Kml()\n",
    "for row in df.sort_values(by=['LTE_Users'], ascending=False).itertuples():\n",
    "    pol = kml.newpolygon(name=f'{row.Cellname}', \n",
    "                         description=f\"\"\"<html><body style=\"font-family: sans-serif;\">\n",
    "                         <center>Timing Advance: {row.Timing_Advance}meters<br> \n",
    "                         <center>Users: {row.LTE_Users}<br> \n",
    "                         </body></html>\"\"\")\n",
    "    pol.outerboundaryis = row.wedge_geometry.exterior.coords\n",
    "    pol.style.linestyle.color = simplekml.Color.changealphaint(130, row.polycolor)\n",
    "    pol.style.linestyle.width = 1\n",
    "    pol.style.polystyle.color = simplekml.Color.changealphaint(130, row.polycolor)\n",
    "kml.save(\"networkcellsummary.kml\")"
   ]
  }
 ],
 "metadata": {
  "kernelspec": {
   "display_name": "geospatial_general",
   "language": "python",
   "name": "geospatial_general"
  },
  "language_info": {
   "codemirror_mode": {
    "name": "ipython",
    "version": 3
   },
   "file_extension": ".py",
   "mimetype": "text/x-python",
   "name": "python",
   "nbconvert_exporter": "python",
   "pygments_lexer": "ipython3",
   "version": "3.10.13"
  }
 },
 "nbformat": 4,
 "nbformat_minor": 2
}
