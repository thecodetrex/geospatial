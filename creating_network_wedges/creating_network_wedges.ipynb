{
 "cells": [
  {
   "cell_type": "code",
   "execution_count": null,
   "metadata": {},
   "outputs": [],
   "source": [
    "# import required libraries\n",
    "import pandas as pd\n",
    "import numpy as np\n",
    "import geog\n",
    "import simplekml\n",
    "import shapely"
   ]
  },
  {
   "cell_type": "code",
   "execution_count": null,
   "metadata": {},
   "outputs": [],
   "source": [
    "# read in dataframe of network data (this is a dummy dataset)\n",
    "df = pd.read_csv('network_data.csv')\n",
    "df.info()\n",
    "# the dataframe contains: \n",
    "    # a cell identifier, \n",
    "    # cell locations, \n",
    "    # the number of connections to a cell, \n",
    "    # the direction the cell faces and \n",
    "    # the average distance from the cell which users connect to\n"
   ]
  },
  {
   "cell_type": "code",
   "execution_count": null,
   "metadata": {},
   "outputs": [],
   "source": [
    "# define functions to create different components required to create wedges\n",
    "\n",
    "# starting with a circle...\n",
    "def createCircle(lat,lng,n_points,distance_radius_meters):\n",
    "    p = (lng, lat)\n",
    "    n_points = n_points\n",
    "    d = distance_radius_meters  # meters\n",
    "    angles = np.linspace(0, 360, n_points)\n",
    "    polygon = geog.propagate(p, angles, d)\n",
    "    return shapely.geometry.Polygon(polygon)\n",
    "\n",
    "# ...then two lines to intersect the circle and split it into a wedge and the remainder...\n",
    "def createLine(lat,lng,n_points,distance_radius_meters,angle):\n",
    "    p = shapely.geometry.Point([lng, lat])\n",
    "    n_points = n_points\n",
    "    d = distance_radius_meters  # meters\n",
    "    polygon = geog.propagate(p, angle, d, bearing=True)\n",
    "    try:\n",
    "        return shapely.geometry.LineString([(lng, lat), (polygon[0], polygon[1])])\n",
    "    except:\n",
    "        return None\n",
    "    \n",
    "# ...and implement the intersection and pick the wedge by selecting the shape with the minimum area between the two (the wedge and the remainder)\n",
    "def createWedge(circle, l1, l2):\n",
    "    if (circle.is_valid) & (l1.is_valid) & (l2.is_valid):\n",
    "        plist = list(circle.difference(l1.buffer(1e-6)).difference(l2.buffer(1e-6)))\n",
    "        return plist[[x.area for x in plist].index(min([x.area for x in plist]))]\n",
    "    else:\n",
    "        return np.nan"
   ]
  }
 ],
 "metadata": {
  "language_info": {
   "name": "python"
  },
  "orig_nbformat": 4
 },
 "nbformat": 4,
 "nbformat_minor": 2
}
